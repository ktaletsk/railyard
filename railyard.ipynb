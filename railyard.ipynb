{
 "cells": [
  {
   "cell_type": "code",
   "execution_count": 23,
   "metadata": {
    "Collapsed": "false"
   },
   "outputs": [],
   "source": [
    "import os\n",
    "import json\n",
    "import yaml"
   ]
  },
  {
   "cell_type": "code",
   "execution_count": 82,
   "metadata": {
    "Collapsed": "false"
   },
   "outputs": [],
   "source": [
    "with open(r'big.yaml') as file:\n",
    "    package = yaml.load(file, Loader=yaml.FullLoader)"
   ]
  },
  {
   "cell_type": "code",
   "execution_count": 83,
   "metadata": {
    "Collapsed": "false"
   },
   "outputs": [
    {
     "data": {
      "text/plain": [
       "{'name': 'big',\n",
       " 'dependencies': {'env': [{'PATH': '$CONDA_DIR/bin:$PATH'},\n",
       "   {'HOME': '/home/$NB_USER'},\n",
       "   {'MINICONDA_VERSION': '4.7.12'},\n",
       "   {'CONDA_VERSION': '4.7.12'},\n",
       "   {'JAVA_HOME': '/usr/lib/jvm/java-8-openjdk-amd64'},\n",
       "   {'MAVEN_HOME': '/usr/share/maven'},\n",
       "   {'MAVEN_CONFIG': '$USER_HOME_DIR/.m2'},\n",
       "   {'JULIA_DEPOT_PATH': '/opt/julia'},\n",
       "   {'JULIA_PKGDIR': '/opt/julia'},\n",
       "   {'JULIA_VERSION': '1.1.1'},\n",
       "   {'XDG_CACHE_HOME': '/home/$NB_USER/.cache/'},\n",
       "   {'SCALA_VERSION': '2.12.8'},\n",
       "   {'ALMOND_VERSION': '0.6.0'}],\n",
       "  'apt': ['wget',\n",
       "   'bzip2',\n",
       "   'ca-certificates',\n",
       "   'sudo',\n",
       "   'locales',\n",
       "   'fonts-liberation',\n",
       "   'run-one',\n",
       "   'build-essential',\n",
       "   'emacs',\n",
       "   'git',\n",
       "   'inkscape',\n",
       "   'jed',\n",
       "   'libsm6',\n",
       "   'libxext-dev',\n",
       "   'libxrender1',\n",
       "   'lmodern',\n",
       "   'netcat',\n",
       "   'pandoc',\n",
       "   'python-dev',\n",
       "   'tzdata',\n",
       "   'unzip',\n",
       "   'nano',\n",
       "   'ffmpeg',\n",
       "   'ssh',\n",
       "   'fonts-dejavu',\n",
       "   'tzdata',\n",
       "   'gfortran',\n",
       "   'gcc',\n",
       "   'octave',\n",
       "   'openjdk-8-jdk',\n",
       "   'openjdk-11-jdk',\n",
       "   'maven=3.6.0-1~18.04.1',\n",
       "   'libssl1.0.0 libssl-dev',\n",
       "   'scala',\n",
       "   'curl',\n",
       "   'procps'],\n",
       "  'conda': [{'notebook': '6.0.1'},\n",
       "   'jupyterhub',\n",
       "   {'jupyterlab': '1.2.3'},\n",
       "   {'tini': '0.18.0'},\n",
       "   {'notebook': '6.0.1'},\n",
       "   'jupyterhub',\n",
       "   {'jupyterlab': '1.2.3'},\n",
       "   {'jupyter-archive': '0.5.5'},\n",
       "   {'conda-forge': '::blas=*=openblas'},\n",
       "   {'ipywidgets': '7.5*'},\n",
       "   {'pandas': '0.25*'},\n",
       "   {'numexpr': '2.6*'},\n",
       "   {'matplotlib-base': '3.1*'},\n",
       "   {'scipy': '1.3*'},\n",
       "   {'seaborn': '0.9*'},\n",
       "   {'scikit-learn': '0.21*'},\n",
       "   {'scikit-image': '0.16*'},\n",
       "   {'sympy': '1.4*'},\n",
       "   {'cython': '0.29*'},\n",
       "   {'patsy': '0.5*'},\n",
       "   {'statsmodels': '0.10*'},\n",
       "   {'cloudpickle': '1.2*'},\n",
       "   {'dill': '0.3*'},\n",
       "   {'numba': '0.46*'},\n",
       "   {'sqlalchemy': '1.3*'},\n",
       "   {'hdf5': '1.10*'},\n",
       "   {'h5py': '2.9*'},\n",
       "   {'vincent': '0.4*'},\n",
       "   {'beautifulsoup4': '4.8*'},\n",
       "   {'protobuf': '3.8*'},\n",
       "   {'xlrd': '1.2*'},\n",
       "   'feather-format',\n",
       "   {'voila': '0.1.20*'},\n",
       "   {'itkwidgets': '0.22*'},\n",
       "   {'plotly': '4.3*'},\n",
       "   {'altair': '3.2*'},\n",
       "   {'vega_datasets': '0.7*'},\n",
       "   {'bqplot': '0.11*'},\n",
       "   {'pythreejs': '2.1*'},\n",
       "   {'dvc': '0.66*'},\n",
       "   {'gnuplot': '5*'},\n",
       "   {'bokeh': '1*'},\n",
       "   {'holoviews': '1.12*'},\n",
       "   {'hvplot': '0.5*'},\n",
       "   {'panel': '0.6*'},\n",
       "   {'xeus-cling': '0.7*'},\n",
       "   {'xwidgets': '0.19*'},\n",
       "   {'xtensor': '0.20*'},\n",
       "   {'xtl': '0.6*'},\n",
       "   {'xframe': '0.2*'},\n",
       "   'octave_kernel',\n",
       "   'bash_kernel',\n",
       "   'nbformat',\n",
       "   {'sos-notebook': '0.20*'},\n",
       "   {'sos-r': '0.19*'},\n",
       "   {'sos-bash': '0.19*'},\n",
       "   {'sos-python': '0.18*'},\n",
       "   {'sos-julia': '0.18*'},\n",
       "   'nbdime',\n",
       "   {'rpy2': '2.9*'},\n",
       "   {'r-base': '3.6*'},\n",
       "   {'r-irkernel': '1.0.2'},\n",
       "   {'r-plyr': '1.8.4'},\n",
       "   {'r-devtools': '2.2.1'},\n",
       "   {'r-tidyverse': '1.2.1'},\n",
       "   {'r-shiny': '1.4.0'},\n",
       "   {'r-rmarkdown': 1.16},\n",
       "   {'r-forecast': 8.9},\n",
       "   {'r-rsqlite': '2.1.2'},\n",
       "   {'r-reshape2': '1.4.3'},\n",
       "   {'r-caret': 6.084},\n",
       "   {'r-rcurl': '1.95_4.12'},\n",
       "   {'r-crayon': '1.3.4'},\n",
       "   {'r-randomforest': 4.614},\n",
       "   {'r-htmltools': '0.4.0'},\n",
       "   {'r-sparklyr': '1.0.4'},\n",
       "   {'r-htmlwidgets': '1.5.1'},\n",
       "   {'r-hexbin': '1.27.3'},\n",
       "   {'r-feather': '0.3.5'},\n",
       "   {'r-highcharter': '0.7.0'},\n",
       "   {'r-dygraphs': '1.1.1.6'},\n",
       "   {'r-visnetwork': '2.0.8'},\n",
       "   {'r-d3heatmap': '0.6.1.2'},\n",
       "   {'r-plotly': '4.9.1'},\n",
       "   'r-rbokeh',\n",
       "   {'r-networkd3': 0.4},\n",
       "   {'r-dt': 0.1},\n",
       "   {'r-threejs': '0.3.1'},\n",
       "   {'r-rglwidget': '0.2.1'},\n",
       "   {'r-stringi': '1.4.3'}],\n",
       "  'pip': [{'sos-matlab': '0.18.3'},\n",
       "   {'sos-scala': '0.18.0'},\n",
       "   {'sos-javascript': '0.18.0'},\n",
       "   {'sos-xeus-cling': '0.1.0'},\n",
       "   {'sos-java': '0.1.0'},\n",
       "   {'facets-overview': '1.0.0'},\n",
       "   {'jupyterlab-quickopen': '0.3.0'},\n",
       "   {'jupyterlab-git': '0.9.0'},\n",
       "   {'jupyterlab-wipp': '0.3.0'},\n",
       "   {'opencv-python': '4.1.1.26'},\n",
       "   'nbresuse'],\n",
       "  'scripts': [{'one': \"This entire block of text will be the value of the 'literal_block' key,\\nwith line breaks being preserved.\\n\\nThe literal continues until de-dented, and the leading indentation is\\nstripped.\\n\\nAny lines that are 'more-indented' keep the rest of their indentation -\\nthese lines will be indented by 4 spaces.\\n\"}]}}"
      ]
     },
     "execution_count": 83,
     "metadata": {},
     "output_type": "execute_result"
    }
   ],
   "source": [
    "package"
   ]
  },
  {
   "cell_type": "code",
   "execution_count": 84,
   "metadata": {
    "Collapsed": "false"
   },
   "outputs": [
    {
     "data": {
      "text/plain": [
       "'big'"
      ]
     },
     "execution_count": 84,
     "metadata": {},
     "output_type": "execute_result"
    }
   ],
   "source": [
    "package['name']"
   ]
  },
  {
   "cell_type": "markdown",
   "metadata": {
    "Collapsed": "false"
   },
   "source": [
    "## Extract scripts"
   ]
  },
  {
   "cell_type": "code",
   "execution_count": 85,
   "metadata": {
    "Collapsed": "false"
   },
   "outputs": [],
   "source": [
    "# Extract scripts\n",
    "s = [item for sublist in [list(script.values()) for script in package['dependencies']['scripts']] for item in sublist]"
   ]
  },
  {
   "cell_type": "code",
   "execution_count": 86,
   "metadata": {
    "Collapsed": "false"
   },
   "outputs": [
    {
     "data": {
      "text/plain": [
       "[\"This entire block of text will be the value of the 'literal_block' key,\\nwith line breaks being preserved.\\n\\nThe literal continues until de-dented, and the leading indentation is\\nstripped.\\n\\nAny lines that are 'more-indented' keep the rest of their indentation -\\nthese lines will be indented by 4 spaces.\\n\"]"
      ]
     },
     "execution_count": 86,
     "metadata": {},
     "output_type": "execute_result"
    }
   ],
   "source": [
    "s"
   ]
  },
  {
   "cell_type": "code",
   "execution_count": 87,
   "metadata": {
    "Collapsed": "false"
   },
   "outputs": [
    {
     "name": "stdout",
     "output_type": "stream",
     "text": [
      "This entire block of text will be the value of the 'literal_block' key,\n",
      "with line breaks being preserved.\n",
      "\n",
      "The literal continues until de-dented, and the leading indentation is\n",
      "stripped.\n",
      "\n",
      "Any lines that are 'more-indented' keep the rest of their indentation -\n",
      "these lines will be indented by 4 spaces.\n",
      "\n"
     ]
    }
   ],
   "source": [
    "print(s[0])"
   ]
  },
  {
   "cell_type": "code",
   "execution_count": null,
   "metadata": {
    "Collapsed": "false"
   },
   "outputs": [],
   "source": []
  }
 ],
 "metadata": {
  "kernelspec": {
   "display_name": "Python 3",
   "language": "python",
   "name": "python3"
  },
  "language_info": {
   "codemirror_mode": {
    "name": "ipython",
    "version": 3
   },
   "file_extension": ".py",
   "mimetype": "text/x-python",
   "name": "python",
   "nbconvert_exporter": "python",
   "pygments_lexer": "ipython3",
   "version": "3.7.3"
  }
 },
 "nbformat": 4,
 "nbformat_minor": 4
}
