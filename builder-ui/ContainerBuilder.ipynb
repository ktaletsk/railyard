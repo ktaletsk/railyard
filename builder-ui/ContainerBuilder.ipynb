{
 "cells": [
  {
   "cell_type": "code",
   "execution_count": null,
   "metadata": {
    "Collapsed": "false"
   },
   "outputs": [],
   "source": [
    "from read_stacks import *\n",
    "import itertools\n",
    "import ipywidgets as widgets\n",
    "import numpy as np\n",
    "from IPython.display import display"
   ]
  },
  {
   "cell_type": "code",
   "execution_count": null,
   "metadata": {
    "Collapsed": "false"
   },
   "outputs": [],
   "source": [
    "base = '../base.yaml'"
   ]
  },
  {
   "cell_type": "code",
   "execution_count": null,
   "metadata": {
    "Collapsed": "false"
   },
   "outputs": [],
   "source": [
    "groups = [\n",
    "    ['../Python-datascience.yaml', '../Python-dataviz.yaml'],\n",
    "    ['../R.yaml'],\n",
    "    ['../julia.yaml'],\n",
    "    ['../octave.yaml'],\n",
    "    ['../java.yaml', '../scala.yaml'],\n",
    "    ['../cpp.yaml'],\n",
    "    ['../bash.yaml']\n",
    "]\n",
    "groups_names = [\n",
    "    'Python Data Science',\n",
    "    'R',\n",
    "    'Julia',\n",
    "    'Octave',\n",
    "    'Java+Scala',\n",
    "    'C++',\n",
    "    'Bash'\n",
    "]"
   ]
  },
  {
   "cell_type": "markdown",
   "metadata": {
    "Collapsed": "false"
   },
   "source": [
    "# Build your own Jupyter container\n",
    "\n",
    "All containers come with Python and Jupyter kernel preinstalled. Add more languages/libraries from the list and get the container ready to run"
   ]
  },
  {
   "cell_type": "code",
   "execution_count": null,
   "metadata": {
    "Collapsed": "false"
   },
   "outputs": [],
   "source": [
    "repo = 'ktaletsk/polus-notebook'\n",
    "choices = [False] * len(groups)\n",
    "\n",
    "# Generate buttons\n",
    "buttons = {}\n",
    "for i,g in enumerate(groups_names):\n",
    "    buttons.update({widgets.Button(description=g): i})\n",
    "\n",
    "output = widgets.Output()\n",
    "\n",
    "display(*buttons.keys(), output)\n",
    "\n",
    "def on_button_clicked(b):\n",
    "    output.clear_output()\n",
    "    index = buttons[b]\n",
    "    choices[index] = not choices[index]\n",
    "    if choices[index]:\n",
    "        b.icon = 'check'\n",
    "    else:\n",
    "        b.icon = ''\n",
    "    with output:\n",
    "        h = get_hash(readStacks(base,([item for sublist in np.array(groups)[choices].tolist() for item in sublist])))\n",
    "        print(repo + ':' + h)\n",
    "\n",
    "for b in buttons.keys():\n",
    "    b.on_click(on_button_clicked)\n",
    "\n",
    "with output:\n",
    "        h = get_hash(readStacks(base,([item for sublist in np.array(groups)[choices].tolist() for item in sublist])))\n",
    "        print(repo + ':' + h)"
   ]
  },
  {
   "cell_type": "code",
   "execution_count": null,
   "metadata": {
    "Collapsed": "false"
   },
   "outputs": [],
   "source": []
  }
 ],
 "metadata": {
  "kernelspec": {
   "display_name": "Python 3",
   "language": "python",
   "name": "python3"
  },
  "language_info": {
   "codemirror_mode": {
    "name": "ipython",
    "version": 3
   },
   "file_extension": ".py",
   "mimetype": "text/x-python",
   "name": "python",
   "nbconvert_exporter": "python",
   "pygments_lexer": "ipython3",
   "version": "3.7.3"
  }
 },
 "nbformat": 4,
 "nbformat_minor": 4
}
