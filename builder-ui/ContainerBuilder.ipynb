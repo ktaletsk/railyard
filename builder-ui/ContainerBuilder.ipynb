{
 "cells": [
  {
   "cell_type": "code",
   "execution_count": null,
   "metadata": {
    "Collapsed": "false"
   },
   "outputs": [],
   "source": [
    "import itertools\n",
    "import ipywidgets as widgets\n",
    "import numpy as np\n",
    "from IPython.display import display\n",
    "from railyard.assembler import readStacks, get_hash"
   ]
  },
  {
   "cell_type": "code",
   "execution_count": null,
   "metadata": {
    "Collapsed": "false"
   },
   "outputs": [],
   "source": [
    "base = '../stacks/base.yaml'"
   ]
  },
  {
   "cell_type": "code",
   "execution_count": null,
   "metadata": {
    "Collapsed": "false"
   },
   "outputs": [],
   "source": [
    "base_options = [\n",
    "    '../stacks/base.yaml',\n",
    "    '../stacks/base_gpu.yaml'\n",
    "]"
   ]
  },
  {
   "cell_type": "code",
   "execution_count": null,
   "metadata": {
    "Collapsed": "false"
   },
   "outputs": [],
   "source": [
    "base_names = [\n",
    "    'None',\n",
    "    '10.2'\n",
    "]"
   ]
  },
  {
   "cell_type": "code",
   "execution_count": null,
   "metadata": {
    "Collapsed": "false"
   },
   "outputs": [],
   "source": [
    "groups = [\n",
    "    ['../stacks/Python-datascience.yaml', '../stacks/Python-dataviz.yaml'],\n",
    "    ['../stacks/R.yaml'],\n",
    "    ['../stacks/julia.yaml'],\n",
    "    ['../stacks/octave.yaml'],\n",
    "    ['../stacks/java.yaml', '../stacks/scala.yaml'],\n",
    "    ['../stacks/cpp.yaml'],\n",
    "    ['../stacks/bash.yaml']\n",
    "]\n",
    "groups_names = [\n",
    "    'Python Data Science',\n",
    "    'R',\n",
    "    'Julia',\n",
    "    'Octave',\n",
    "    'Java+Scala',\n",
    "    'C++',\n",
    "    'Bash'\n",
    "]"
   ]
  },
  {
   "cell_type": "markdown",
   "metadata": {
    "Collapsed": "false"
   },
   "source": [
    "# Build your own Jupyter container\n",
    "\n",
    "All containers come with Python and Jupyter kernel preinstalled. Add more languages/libraries from the list and get the container ready to run"
   ]
  },
  {
   "cell_type": "code",
   "execution_count": null,
   "metadata": {
    "Collapsed": "false"
   },
   "outputs": [],
   "source": [
    "repo = 'labshare/polyglot-notebook'\n",
    "\n",
    "# Generate buttons for base options\n",
    "base_choice_buttons = {}\n",
    "for i,g in enumerate(base_names):\n",
    "    base_choice_buttons.update({widgets.Button(description=g): i})\n",
    "\n",
    "\n",
    "base_choice = 0\n",
    "additional_choices = [False] * len(groups)\n",
    "\n",
    "# Generate buttons\n",
    "buttons = {}\n",
    "for i,g in enumerate(groups_names):\n",
    "    buttons.update({widgets.Button(description=g): i})\n",
    "\n",
    "output = widgets.Output()\n",
    "output2 = widgets.Output()\n",
    "\n",
    "panel1 = widgets.HBox([widgets.Label('CUDA:      ')] + list(base_choice_buttons.keys()))\n",
    "panel2 = widgets.HBox([widgets.Label('Add packages:      ')] + list(buttons.keys()))\n",
    "panel3 = widgets.HBox([widgets.Label('Use this container: '), output])\n",
    "\n",
    "display(panel1, panel2, panel3,output2)\n",
    "\n",
    "# Define button callbacks\n",
    "def on_base_choices_button_clicked(b):\n",
    "    output.clear_output()\n",
    "    output2.clear_output()\n",
    "    \n",
    "    # Set new base choice in variable\n",
    "    global base_choice\n",
    "    base_choice = base_choice_buttons[b]\n",
    "    \n",
    "    # Update buttons\n",
    "    # Clear previous selection\n",
    "    for bb in base_choice_buttons.keys():\n",
    "        bb.icon = ''\n",
    "        bb.button_style=''\n",
    "\n",
    "    b.icon = 'check'\n",
    "    b.button_style='warning'\n",
    "\n",
    "    with output:\n",
    "        h = get_hash(readStacks(base_options[base_choice],([item for sublist in np.array(groups)[additional_choices].tolist() for item in sublist])))\n",
    "        print(repo + ':' + h)\n",
    "    with output2:\n",
    "        h = get_hash(readStacks(base_options[base_choice],([item for sublist in np.array(groups)[additional_choices].tolist() for item in sublist])))\n",
    "        print('\\n\\n')\n",
    "        print('Test locally:')\n",
    "        print(f'docker run -it -p 8888:8888 {\"--runtime=nvidia \" if base_choice!=0 else \"\"}{repo}:{h}')\n",
    "\n",
    "def on_additional_choices_button_clicked(b):\n",
    "    global base_choice\n",
    "    \n",
    "    output.clear_output()\n",
    "    output2.clear_output()\n",
    "    index = buttons[b]\n",
    "    additional_choices[index] = not additional_choices[index]\n",
    "    if additional_choices[index]:\n",
    "        b.icon = 'check'\n",
    "        b.button_style='warning'\n",
    "    else:\n",
    "        b.icon = ''\n",
    "        b.button_style=''\n",
    "    with output:\n",
    "        h = get_hash(readStacks(base_options[base_choice],([item for sublist in np.array(groups)[additional_choices].tolist() for item in sublist])))\n",
    "        print(repo + ':' + h)\n",
    "    with output2:\n",
    "        h = get_hash(readStacks(base_options[base_choice],([item for sublist in np.array(groups)[additional_choices].tolist() for item in sublist])))\n",
    "        print('\\n\\n')\n",
    "        print('Test locally:')\n",
    "        print(f'docker run -it -p 8888:8888 {\"--runtime=nvidia \" if base_choice!=0 else \"\"}{repo}:{h}')\n",
    "\n",
    "for b in base_choice_buttons.keys():\n",
    "    b.on_click(on_base_choices_button_clicked)\n",
    "\n",
    "for b in buttons.keys():\n",
    "    b.on_click(on_additional_choices_button_clicked)\n",
    "\n",
    "with output:\n",
    "        h = get_hash(readStacks(base,([item for sublist in np.array(groups)[additional_choices].tolist() for item in sublist])))\n",
    "        print(repo + ':' + h)"
   ]
  }
 ],
 "metadata": {
  "kernelspec": {
   "display_name": "Python 3",
   "language": "python",
   "name": "python3"
  },
  "language_info": {
   "codemirror_mode": {
    "name": "ipython",
    "version": 3
   },
   "file_extension": ".py",
   "mimetype": "text/x-python",
   "name": "python",
   "nbconvert_exporter": "python",
   "pygments_lexer": "ipython3",
   "version": "3.7.3"
  }
 },
 "nbformat": 4,
 "nbformat_minor": 4
}
